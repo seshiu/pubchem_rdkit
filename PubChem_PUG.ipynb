{
  "nbformat": 4,
  "nbformat_minor": 0,
  "metadata": {
    "colab": {
      "provenance": [],
      "include_colab_link": true
    },
    "kernelspec": {
      "name": "python3",
      "display_name": "Python 3"
    },
    "language_info": {
      "name": "python"
    }
  },
  "cells": [
    {
      "cell_type": "markdown",
      "metadata": {
        "id": "view-in-github",
        "colab_type": "text"
      },
      "source": [
        "<a href=\"https://colab.research.google.com/github/seshiu/pubchem_rdkit/blob/main/PubChem_PUG.ipynb\" target=\"_parent\"><img src=\"https://colab.research.google.com/assets/colab-badge.svg\" alt=\"Open In Colab\"/></a>"
      ]
    },
    {
      "cell_type": "code",
      "metadata": {
        "id": "nCe5tKydsJdt"
      },
      "source": [
        "import requests\n",
        "import bs4\n",
        "from bs4 import BeautifulSoup\n",
        "import re\n",
        "from statistics import mode\n",
        "import pandas as pd\n",
        "import numpy as np"
      ],
      "execution_count": 30,
      "outputs": []
    },
    {
      "cell_type": "markdown",
      "metadata": {
        "id": "xdOgCs-u_7Hc"
      },
      "source": [
        "# Working with PUG-REST"
      ]
    },
    {
      "cell_type": "markdown",
      "metadata": {
        "id": "PZiybzdD_UC9"
      },
      "source": [
        "Let's try to get all data on aspirin\n",
        "\n"
      ]
    },
    {
      "cell_type": "code",
      "metadata": {
        "colab": {
          "base_uri": "https://localhost:8080/"
        },
        "id": "Heiw5skksRQo",
        "outputId": "8ef3776f-4ad4-4e38-a0dd-c95e8c5df82c"
      },
      "source": [
        "data = requests.get(\"https://pubchem.ncbi.nlm.nih.gov/rest/pug/compound/name/aspirin\")\n",
        "data"
      ],
      "execution_count": null,
      "outputs": [
        {
          "output_type": "execute_result",
          "data": {
            "text/plain": [
              "<Response [400]>"
            ]
          },
          "metadata": {},
          "execution_count": 2
        }
      ]
    },
    {
      "cell_type": "markdown",
      "metadata": {
        "id": "iKo1oKLU_gVe"
      },
      "source": [
        "Hmmm... A 400 response code means error. It looks like we have to specify the output file type. Otherwise, requests won't work."
      ]
    },
    {
      "cell_type": "code",
      "metadata": {
        "colab": {
          "base_uri": "https://localhost:8080/"
        },
        "id": "BJdSnjIi_fDk",
        "outputId": "7d4ac583-aba1-47a2-854a-5e3f4ff68218"
      },
      "source": [
        "data = requests.get(\"https://pubchem.ncbi.nlm.nih.gov/rest/pug/compound/name/aspirin/xml\")\n",
        "data"
      ],
      "execution_count": null,
      "outputs": [
        {
          "output_type": "execute_result",
          "data": {
            "text/plain": [
              "<Response [200]>"
            ]
          },
          "metadata": {},
          "execution_count": 3
        }
      ]
    },
    {
      "cell_type": "markdown",
      "metadata": {
        "id": "WIige_yH_5uj"
      },
      "source": [
        "Ok. Let's parse this information using Beautiful Soup."
      ]
    },
    {
      "cell_type": "code",
      "metadata": {
        "id": "gnwvcIR_APrv"
      },
      "source": [
        "html = BeautifulSoup(data.content, \"xml\")"
      ],
      "execution_count": null,
      "outputs": []
    },
    {
      "cell_type": "markdown",
      "metadata": {
        "id": "QcfvDp92ATMb"
      },
      "source": [
        "Let's find out what kind of information we can get."
      ]
    },
    {
      "cell_type": "code",
      "metadata": {
        "colab": {
          "base_uri": "https://localhost:8080/"
        },
        "id": "IYligxUM_cTm",
        "outputId": "8f291b82-8a8a-4521-e8cf-cad5263c36b7"
      },
      "source": [
        "html.find_all(\"PC-Urn_label\")"
      ],
      "execution_count": null,
      "outputs": [
        {
          "output_type": "execute_result",
          "data": {
            "text/plain": [
              "[<PC-Urn_label>Compound</PC-Urn_label>,\n",
              " <PC-Urn_label>Compound Complexity</PC-Urn_label>,\n",
              " <PC-Urn_label>Count</PC-Urn_label>,\n",
              " <PC-Urn_label>Count</PC-Urn_label>,\n",
              " <PC-Urn_label>Count</PC-Urn_label>,\n",
              " <PC-Urn_label>Fingerprint</PC-Urn_label>,\n",
              " <PC-Urn_label>IUPAC Name</PC-Urn_label>,\n",
              " <PC-Urn_label>IUPAC Name</PC-Urn_label>,\n",
              " <PC-Urn_label>IUPAC Name</PC-Urn_label>,\n",
              " <PC-Urn_label>IUPAC Name</PC-Urn_label>,\n",
              " <PC-Urn_label>IUPAC Name</PC-Urn_label>,\n",
              " <PC-Urn_label>IUPAC Name</PC-Urn_label>,\n",
              " <PC-Urn_label>InChI</PC-Urn_label>,\n",
              " <PC-Urn_label>InChIKey</PC-Urn_label>,\n",
              " <PC-Urn_label>Log P</PC-Urn_label>,\n",
              " <PC-Urn_label>Mass</PC-Urn_label>,\n",
              " <PC-Urn_label>Molecular Formula</PC-Urn_label>,\n",
              " <PC-Urn_label>Molecular Weight</PC-Urn_label>,\n",
              " <PC-Urn_label>SMILES</PC-Urn_label>,\n",
              " <PC-Urn_label>SMILES</PC-Urn_label>,\n",
              " <PC-Urn_label>Topological</PC-Urn_label>,\n",
              " <PC-Urn_label>Weight</PC-Urn_label>]"
            ]
          },
          "metadata": {},
          "execution_count": 5
        }
      ]
    },
    {
      "cell_type": "markdown",
      "metadata": {
        "id": "e7mtGVUtAjDT"
      },
      "source": [
        "Let's get the Molecular Weight. First, we locate the tag."
      ]
    },
    {
      "cell_type": "code",
      "metadata": {
        "colab": {
          "base_uri": "https://localhost:8080/"
        },
        "id": "KzKVctsyAtSu",
        "outputId": "877d8249-1637-4a29-f2d5-3fcdf1016bcf"
      },
      "source": [
        "mw_tag = html.find(name=\"PC-Urn_label\", string=\"Molecular Weight\")\n",
        "mw_tag"
      ],
      "execution_count": null,
      "outputs": [
        {
          "output_type": "execute_result",
          "data": {
            "text/plain": [
              "<PC-Urn_label>Molecular Weight</PC-Urn_label>"
            ]
          },
          "metadata": {},
          "execution_count": 6
        }
      ]
    },
    {
      "cell_type": "markdown",
      "metadata": {
        "id": "eUR4DZjyBANO"
      },
      "source": [
        "Then, let's take a look at the parent of this tag."
      ]
    },
    {
      "cell_type": "code",
      "metadata": {
        "colab": {
          "base_uri": "https://localhost:8080/"
        },
        "id": "-hi5bLQMA6m0",
        "outputId": "8f04e1d1-1a87-4259-a03b-ab6122bc8ba5"
      },
      "source": [
        "mw_parents = mw_tag.find_parent(\"PC-InfoData\")\n",
        "mw_parents"
      ],
      "execution_count": null,
      "outputs": [
        {
          "output_type": "execute_result",
          "data": {
            "text/plain": [
              "<PC-InfoData>\n",
              "<PC-InfoData_urn>\n",
              "<PC-Urn>\n",
              "<PC-Urn_label>Molecular Weight</PC-Urn_label>\n",
              "<PC-Urn_datatype>\n",
              "<PC-UrnDataType value=\"string\">1</PC-UrnDataType>\n",
              "</PC-Urn_datatype>\n",
              "<PC-Urn_version>2.1</PC-Urn_version>\n",
              "<PC-Urn_software>PubChem</PC-Urn_software>\n",
              "<PC-Urn_source>ncbi.nlm.nih.gov</PC-Urn_source>\n",
              "<PC-Urn_release>2021.05.07</PC-Urn_release>\n",
              "</PC-Urn>\n",
              "</PC-InfoData_urn>\n",
              "<PC-InfoData_value>\n",
              "<PC-InfoData_value_sval>180.16</PC-InfoData_value_sval>\n",
              "</PC-InfoData_value>\n",
              "</PC-InfoData>"
            ]
          },
          "metadata": {},
          "execution_count": 7
        }
      ]
    },
    {
      "cell_type": "markdown",
      "metadata": {
        "id": "EErmis0TBWuC"
      },
      "source": [
        "The info we want is contained between 'PC-InfoData_value_sval' tag. So let's get to it."
      ]
    },
    {
      "cell_type": "code",
      "metadata": {
        "colab": {
          "base_uri": "https://localhost:8080/"
        },
        "id": "HjHkZF4fBtIG",
        "outputId": "f9173482-a469-41f4-fa13-8797d7a6d8f5"
      },
      "source": [
        "mw = mw_parents.find('PC-InfoData_value_sval').string\n",
        "mw"
      ],
      "execution_count": null,
      "outputs": [
        {
          "output_type": "execute_result",
          "data": {
            "application/vnd.google.colaboratory.intrinsic+json": {
              "type": "string"
            },
            "text/plain": [
              "'180.16'"
            ]
          },
          "metadata": {},
          "execution_count": 8
        }
      ]
    },
    {
      "cell_type": "markdown",
      "metadata": {
        "id": "-JKY1vvjCBDt"
      },
      "source": [
        "There you go. It takes some playing around with. You can always go to the URL, which will render the data on your browser. That's what I did to help navigate this tree."
      ]
    },
    {
      "cell_type": "markdown",
      "metadata": {
        "id": "LML2rT0GB9lr"
      },
      "source": [
        "# Working with PUG-View"
      ]
    },
    {
      "cell_type": "markdown",
      "metadata": {
        "id": "R12cZMPECbKA"
      },
      "source": [
        "Let's do the same for PUG-View and see what we can get from it for aspirin."
      ]
    },
    {
      "cell_type": "code",
      "metadata": {
        "colab": {
          "base_uri": "https://localhost:8080/"
        },
        "id": "EKxY0n2SCU4T",
        "outputId": "0e254d6d-0a8e-4214-e59c-59e9787b90d4"
      },
      "source": [
        "data = requests.get(\"https://pubchem.ncbi.nlm.nih.gov/rest/pug_view/data/compound/2244/xml\")\n",
        "data"
      ],
      "execution_count": null,
      "outputs": [
        {
          "output_type": "execute_result",
          "data": {
            "text/plain": [
              "<Response [200]>"
            ]
          },
          "metadata": {},
          "execution_count": 9
        }
      ]
    },
    {
      "cell_type": "code",
      "metadata": {
        "id": "C8U00wDyCf9J"
      },
      "source": [
        "html = BeautifulSoup(data.content, \"xml\")"
      ],
      "execution_count": null,
      "outputs": []
    },
    {
      "cell_type": "markdown",
      "metadata": {
        "id": "W435iqjGBs29"
      },
      "source": [
        "To get an idea of what information is available, we can look up TOCHeadings with html.find_all('TOCHeading'). I'm not gonna run the code here, because it's a really long list. Let's say we want to look up melting points."
      ]
    },
    {
      "cell_type": "code",
      "metadata": {
        "colab": {
          "base_uri": "https://localhost:8080/"
        },
        "id": "U30gIgy9DIOW",
        "outputId": "2f70f3fc-4f18-499f-e326-4dd53a0ae34a"
      },
      "source": [
        "mp_tag = html.find(name='TOCHeading', string='Melting Point')\n",
        "mp_tag"
      ],
      "execution_count": null,
      "outputs": [
        {
          "output_type": "execute_result",
          "data": {
            "text/plain": [
              "<TOCHeading>Melting Point</TOCHeading>"
            ]
          },
          "metadata": {},
          "execution_count": 11
        }
      ]
    },
    {
      "cell_type": "markdown",
      "metadata": {
        "id": "C8XwApqwFS5D"
      },
      "source": [
        "If you look at the xml structure, you'll see that this TOCHeading has siblings with tags 'Information'. The information we want is the childrean of these 'Information' tag under the tag 'String.' So, to find the first value, we can do this:"
      ]
    },
    {
      "cell_type": "markdown",
      "metadata": {
        "id": "uP_wNAMcF6qp"
      },
      "source": []
    },
    {
      "cell_type": "code",
      "metadata": {
        "colab": {
          "base_uri": "https://localhost:8080/"
        },
        "id": "cmbSXKyeDguP",
        "outputId": "24403c38-bac8-45d2-e0e9-394d45d80aae"
      },
      "source": [
        "mp_tag.find_next_sibling('Information').find(name='String').string"
      ],
      "execution_count": null,
      "outputs": [
        {
          "output_type": "execute_result",
          "data": {
            "application/vnd.google.colaboratory.intrinsic+json": {
              "type": "string"
            },
            "text/plain": [
              "'275 °F (NTP, 1992)'"
            ]
          },
          "metadata": {},
          "execution_count": 12
        }
      ]
    },
    {
      "cell_type": "markdown",
      "metadata": {
        "id": "-SBWkdWOFriN"
      },
      "source": [
        "As you can see, these numbers come with not just the units, but annotations on where the data comes from. Not only that, there are multiple values for melting point, since it's experimentally measured. This was quite a long way to find the melting point. An eaiser way is to include what we want in the URL."
      ]
    },
    {
      "cell_type": "code",
      "metadata": {
        "colab": {
          "base_uri": "https://localhost:8080/"
        },
        "id": "53JhxgOWGMKg",
        "outputId": "0eb63c08-705a-4288-b8c1-3a5ca81edd2d"
      },
      "source": [
        "data = requests.get(\"https://pubchem.ncbi.nlm.nih.gov/rest/pug_view/data/compound/2244/xml?heading=Melting+Point\")\n",
        "data"
      ],
      "execution_count": 2,
      "outputs": [
        {
          "output_type": "execute_result",
          "data": {
            "text/plain": [
              "<Response [200]>"
            ]
          },
          "metadata": {},
          "execution_count": 2
        }
      ]
    },
    {
      "cell_type": "code",
      "metadata": {
        "id": "sSTGkjU-GnZa"
      },
      "source": [
        "html = BeautifulSoup(data.content, \"xml\")"
      ],
      "execution_count": 3,
      "outputs": []
    },
    {
      "cell_type": "code",
      "metadata": {
        "colab": {
          "base_uri": "https://localhost:8080/"
        },
        "id": "dl0Oxt3LGz95",
        "outputId": "c7e7aa3f-9973-4c77-e4c3-ee81723749d7"
      },
      "source": [
        "html.find_all('String')"
      ],
      "execution_count": 15,
      "outputs": [
        {
          "output_type": "execute_result",
          "data": {
            "text/plain": [
              "[<String>275 °F (NTP, 1992)</String>,\n",
              " <String>138-140</String>,\n",
              " <String>135 °C (rapid heating)</String>,\n",
              " <String>135 °C</String>,\n",
              " <String>135 °C</String>,\n",
              " <String>275 °F</String>,\n",
              " <String>275 °F</String>]"
            ]
          },
          "metadata": {},
          "execution_count": 15
        }
      ]
    },
    {
      "cell_type": "code",
      "source": [
        "mode(html.find_all('String')).text"
      ],
      "metadata": {
        "colab": {
          "base_uri": "https://localhost:8080/",
          "height": 35
        },
        "id": "J-1ERWkKKYtr",
        "outputId": "f0f58b6d-a4f8-414b-e194-9fbb70ec0231"
      },
      "execution_count": 23,
      "outputs": [
        {
          "output_type": "execute_result",
          "data": {
            "text/plain": [
              "'135 °C'"
            ],
            "application/vnd.google.colaboratory.intrinsic+json": {
              "type": "string"
            }
          },
          "metadata": {},
          "execution_count": 23
        }
      ]
    },
    {
      "cell_type": "code",
      "source": [
        "CID_list = [2345,\n",
        " 23235,\n",
        " 8698,\n",
        " 21265,\n",
        " 13654,\n",
        " 8437,\n",
        " 7194,\n",
        " 7193,\n",
        " 7165,\n",
        " 5705112,\n",
        " 32611,\n",
        " 25054,\n",
        " 33023,\n",
        " 91234,\n",
        " 134692469,\n",
        " 111835,\n",
        " 87390959,\n",
        " 76959962,\n",
        " 44150341,\n",
        " 21989361]\n",
        "\n",
        "df_properties = pd.DataFrame(index = CID_list, columns = ['mp'])\n",
        "\n",
        "for CID in CID_list:\n",
        "  data = requests.get(f\"https://pubchem.ncbi.nlm.nih.gov/rest/pug_view/data/compound/{CID}/xml?heading=Melting+Point\")\n",
        "  html = BeautifulSoup(data.content, \"xml\")\n",
        "  if len(html.find_all('String')) > 0:\n",
        "    print(mode(html.find_all('String')).text)\n",
        "    df_properties.loc[CID,'mp'] = mode(html.find_all('String')).text\n",
        "  else:\n",
        "    df_properties.loc[CID,'mp'] = np.nan\n",
        "\n",
        "df_properties"
      ],
      "metadata": {
        "colab": {
          "base_uri": "https://localhost:8080/",
          "height": 802
        },
        "id": "pPcP5cReLqgs",
        "outputId": "a9add5b3-0d33-4249-dbaa-44a841a01c31"
      },
      "execution_count": 32,
      "outputs": [
        {
          "output_type": "stream",
          "name": "stdout",
          "text": [
            "21 °C\n",
            "-22 °C\n",
            "-28 °C\n",
            "-34 °C\n",
            "38.5 °C\n",
            "-49 °F (USCG, 1999)\n",
            "-77.8 °C\n"
          ]
        },
        {
          "output_type": "execute_result",
          "data": {
            "text/plain": [
              "                            mp\n",
              "2345                     21 °C\n",
              "23235                      NaN\n",
              "8698                    -22 °C\n",
              "21265                      NaN\n",
              "13654                      NaN\n",
              "8437                    -28 °C\n",
              "7194                       NaN\n",
              "7193                       NaN\n",
              "7165                    -34 °C\n",
              "5705112                38.5 °C\n",
              "32611      -49 °F (USCG, 1999)\n",
              "25054                 -77.8 °C\n",
              "33023                      NaN\n",
              "91234                      NaN\n",
              "134692469                  NaN\n",
              "111835                     NaN\n",
              "87390959                   NaN\n",
              "76959962                   NaN\n",
              "44150341                   NaN\n",
              "21989361                   NaN"
            ],
            "text/html": [
              "\n",
              "  <div id=\"df-dfb70efb-3467-44cd-be18-d60c1baededb\">\n",
              "    <div class=\"colab-df-container\">\n",
              "      <div>\n",
              "<style scoped>\n",
              "    .dataframe tbody tr th:only-of-type {\n",
              "        vertical-align: middle;\n",
              "    }\n",
              "\n",
              "    .dataframe tbody tr th {\n",
              "        vertical-align: top;\n",
              "    }\n",
              "\n",
              "    .dataframe thead th {\n",
              "        text-align: right;\n",
              "    }\n",
              "</style>\n",
              "<table border=\"1\" class=\"dataframe\">\n",
              "  <thead>\n",
              "    <tr style=\"text-align: right;\">\n",
              "      <th></th>\n",
              "      <th>mp</th>\n",
              "    </tr>\n",
              "  </thead>\n",
              "  <tbody>\n",
              "    <tr>\n",
              "      <th>2345</th>\n",
              "      <td>21 °C</td>\n",
              "    </tr>\n",
              "    <tr>\n",
              "      <th>23235</th>\n",
              "      <td>NaN</td>\n",
              "    </tr>\n",
              "    <tr>\n",
              "      <th>8698</th>\n",
              "      <td>-22 °C</td>\n",
              "    </tr>\n",
              "    <tr>\n",
              "      <th>21265</th>\n",
              "      <td>NaN</td>\n",
              "    </tr>\n",
              "    <tr>\n",
              "      <th>13654</th>\n",
              "      <td>NaN</td>\n",
              "    </tr>\n",
              "    <tr>\n",
              "      <th>8437</th>\n",
              "      <td>-28 °C</td>\n",
              "    </tr>\n",
              "    <tr>\n",
              "      <th>7194</th>\n",
              "      <td>NaN</td>\n",
              "    </tr>\n",
              "    <tr>\n",
              "      <th>7193</th>\n",
              "      <td>NaN</td>\n",
              "    </tr>\n",
              "    <tr>\n",
              "      <th>7165</th>\n",
              "      <td>-34 °C</td>\n",
              "    </tr>\n",
              "    <tr>\n",
              "      <th>5705112</th>\n",
              "      <td>38.5 °C</td>\n",
              "    </tr>\n",
              "    <tr>\n",
              "      <th>32611</th>\n",
              "      <td>-49 °F (USCG, 1999)</td>\n",
              "    </tr>\n",
              "    <tr>\n",
              "      <th>25054</th>\n",
              "      <td>-77.8 °C</td>\n",
              "    </tr>\n",
              "    <tr>\n",
              "      <th>33023</th>\n",
              "      <td>NaN</td>\n",
              "    </tr>\n",
              "    <tr>\n",
              "      <th>91234</th>\n",
              "      <td>NaN</td>\n",
              "    </tr>\n",
              "    <tr>\n",
              "      <th>134692469</th>\n",
              "      <td>NaN</td>\n",
              "    </tr>\n",
              "    <tr>\n",
              "      <th>111835</th>\n",
              "      <td>NaN</td>\n",
              "    </tr>\n",
              "    <tr>\n",
              "      <th>87390959</th>\n",
              "      <td>NaN</td>\n",
              "    </tr>\n",
              "    <tr>\n",
              "      <th>76959962</th>\n",
              "      <td>NaN</td>\n",
              "    </tr>\n",
              "    <tr>\n",
              "      <th>44150341</th>\n",
              "      <td>NaN</td>\n",
              "    </tr>\n",
              "    <tr>\n",
              "      <th>21989361</th>\n",
              "      <td>NaN</td>\n",
              "    </tr>\n",
              "  </tbody>\n",
              "</table>\n",
              "</div>\n",
              "      <button class=\"colab-df-convert\" onclick=\"convertToInteractive('df-dfb70efb-3467-44cd-be18-d60c1baededb')\"\n",
              "              title=\"Convert this dataframe to an interactive table.\"\n",
              "              style=\"display:none;\">\n",
              "        \n",
              "  <svg xmlns=\"http://www.w3.org/2000/svg\" height=\"24px\"viewBox=\"0 0 24 24\"\n",
              "       width=\"24px\">\n",
              "    <path d=\"M0 0h24v24H0V0z\" fill=\"none\"/>\n",
              "    <path d=\"M18.56 5.44l.94 2.06.94-2.06 2.06-.94-2.06-.94-.94-2.06-.94 2.06-2.06.94zm-11 1L8.5 8.5l.94-2.06 2.06-.94-2.06-.94L8.5 2.5l-.94 2.06-2.06.94zm10 10l.94 2.06.94-2.06 2.06-.94-2.06-.94-.94-2.06-.94 2.06-2.06.94z\"/><path d=\"M17.41 7.96l-1.37-1.37c-.4-.4-.92-.59-1.43-.59-.52 0-1.04.2-1.43.59L10.3 9.45l-7.72 7.72c-.78.78-.78 2.05 0 2.83L4 21.41c.39.39.9.59 1.41.59.51 0 1.02-.2 1.41-.59l7.78-7.78 2.81-2.81c.8-.78.8-2.07 0-2.86zM5.41 20L4 18.59l7.72-7.72 1.47 1.35L5.41 20z\"/>\n",
              "  </svg>\n",
              "      </button>\n",
              "      \n",
              "  <style>\n",
              "    .colab-df-container {\n",
              "      display:flex;\n",
              "      flex-wrap:wrap;\n",
              "      gap: 12px;\n",
              "    }\n",
              "\n",
              "    .colab-df-convert {\n",
              "      background-color: #E8F0FE;\n",
              "      border: none;\n",
              "      border-radius: 50%;\n",
              "      cursor: pointer;\n",
              "      display: none;\n",
              "      fill: #1967D2;\n",
              "      height: 32px;\n",
              "      padding: 0 0 0 0;\n",
              "      width: 32px;\n",
              "    }\n",
              "\n",
              "    .colab-df-convert:hover {\n",
              "      background-color: #E2EBFA;\n",
              "      box-shadow: 0px 1px 2px rgba(60, 64, 67, 0.3), 0px 1px 3px 1px rgba(60, 64, 67, 0.15);\n",
              "      fill: #174EA6;\n",
              "    }\n",
              "\n",
              "    [theme=dark] .colab-df-convert {\n",
              "      background-color: #3B4455;\n",
              "      fill: #D2E3FC;\n",
              "    }\n",
              "\n",
              "    [theme=dark] .colab-df-convert:hover {\n",
              "      background-color: #434B5C;\n",
              "      box-shadow: 0px 1px 3px 1px rgba(0, 0, 0, 0.15);\n",
              "      filter: drop-shadow(0px 1px 2px rgba(0, 0, 0, 0.3));\n",
              "      fill: #FFFFFF;\n",
              "    }\n",
              "  </style>\n",
              "\n",
              "      <script>\n",
              "        const buttonEl =\n",
              "          document.querySelector('#df-dfb70efb-3467-44cd-be18-d60c1baededb button.colab-df-convert');\n",
              "        buttonEl.style.display =\n",
              "          google.colab.kernel.accessAllowed ? 'block' : 'none';\n",
              "\n",
              "        async function convertToInteractive(key) {\n",
              "          const element = document.querySelector('#df-dfb70efb-3467-44cd-be18-d60c1baededb');\n",
              "          const dataTable =\n",
              "            await google.colab.kernel.invokeFunction('convertToInteractive',\n",
              "                                                     [key], {});\n",
              "          if (!dataTable) return;\n",
              "\n",
              "          const docLinkHtml = 'Like what you see? Visit the ' +\n",
              "            '<a target=\"_blank\" href=https://colab.research.google.com/notebooks/data_table.ipynb>data table notebook</a>'\n",
              "            + ' to learn more about interactive tables.';\n",
              "          element.innerHTML = '';\n",
              "          dataTable['output_type'] = 'display_data';\n",
              "          await google.colab.output.renderOutput(dataTable, element);\n",
              "          const docLink = document.createElement('div');\n",
              "          docLink.innerHTML = docLinkHtml;\n",
              "          element.appendChild(docLink);\n",
              "        }\n",
              "      </script>\n",
              "    </div>\n",
              "  </div>\n",
              "  "
            ]
          },
          "metadata": {},
          "execution_count": 32
        }
      ]
    },
    {
      "cell_type": "code",
      "source": [
        "def cid_to_property(CID_list, property_name, property_heading):\n",
        "\n",
        "  df_properties = pd.DataFrame(index = CID_list, columns = [property_name])\n",
        "\n",
        "  for CID in CID_list:\n",
        "    data = requests.get(f\"https://pubchem.ncbi.nlm.nih.gov/rest/pug_view/data/compound/{CID}/xml?heading={property_heading}\")\n",
        "    html = BeautifulSoup(data.content, \"xml\")\n",
        "    if len(html.find_all('String')) > 0:\n",
        "      print(mode(html.find_all('String')).text)\n",
        "      df_properties.loc[CID,property_name] = mode(html.find_all('String')).text\n",
        "    else:\n",
        "      df_properties.loc[CID,property_name] = np.nan\n",
        "\n",
        "  return df_properties\n",
        "\n",
        "df_properties = cid_to_property(CID_list, 'RI', 'Refractive+Index')\n",
        "\n",
        "\n",
        "\n",
        "\n",
        "\n"
      ],
      "metadata": {
        "colab": {
          "base_uri": "https://localhost:8080/"
        },
        "id": "7vRulK26Nczf",
        "outputId": "ea13d6e7-c51d-4780-bd3b-55752e9be56e"
      },
      "execution_count": 37,
      "outputs": [
        {
          "output_type": "stream",
          "name": "stdout",
          "text": [
            "Index of refraction: 1.5680 at 20 °C/D\n",
            "1.490-1.500\n",
            "INDEX OF REFRACTION: 1.4940 @ 25 °C/D\n",
            "1.514-1.521\n",
            "1.492-1.497\n",
            "Refractive index = 1.5424\n",
            "1.491-1.497\n",
            "1.502-1.508\n",
            "INDEX OF REFRACTION: 1.4449 @ 20 °C/D\n"
          ]
        }
      ]
    },
    {
      "cell_type": "code",
      "source": [
        "df_properties"
      ],
      "metadata": {
        "colab": {
          "base_uri": "https://localhost:8080/",
          "height": 677
        },
        "id": "nJDzeAHTNb3I",
        "outputId": "fda6cf84-e4e9-440d-96dc-0ec2c0669cdc"
      },
      "execution_count": 38,
      "outputs": [
        {
          "output_type": "execute_result",
          "data": {
            "text/plain": [
              "                                               RI\n",
              "2345       Index of refraction: 1.5680 at 20 °C/D\n",
              "23235                                 1.490-1.500\n",
              "8698        INDEX OF REFRACTION: 1.4940 @ 25 °C/D\n",
              "21265                                 1.514-1.521\n",
              "13654                                 1.492-1.497\n",
              "8437                    Refractive index = 1.5424\n",
              "7194                                          NaN\n",
              "7193                                  1.491-1.497\n",
              "7165                                  1.502-1.508\n",
              "5705112                                       NaN\n",
              "32611       INDEX OF REFRACTION: 1.4449 @ 20 °C/D\n",
              "25054                                         NaN\n",
              "33023                                         NaN\n",
              "91234                                         NaN\n",
              "134692469                                     NaN\n",
              "111835                                        NaN\n",
              "87390959                                      NaN\n",
              "76959962                                      NaN\n",
              "44150341                                      NaN\n",
              "21989361                                      NaN"
            ],
            "text/html": [
              "\n",
              "  <div id=\"df-a7162e74-a3c7-4af5-9f53-cd7a6dad0776\">\n",
              "    <div class=\"colab-df-container\">\n",
              "      <div>\n",
              "<style scoped>\n",
              "    .dataframe tbody tr th:only-of-type {\n",
              "        vertical-align: middle;\n",
              "    }\n",
              "\n",
              "    .dataframe tbody tr th {\n",
              "        vertical-align: top;\n",
              "    }\n",
              "\n",
              "    .dataframe thead th {\n",
              "        text-align: right;\n",
              "    }\n",
              "</style>\n",
              "<table border=\"1\" class=\"dataframe\">\n",
              "  <thead>\n",
              "    <tr style=\"text-align: right;\">\n",
              "      <th></th>\n",
              "      <th>RI</th>\n",
              "    </tr>\n",
              "  </thead>\n",
              "  <tbody>\n",
              "    <tr>\n",
              "      <th>2345</th>\n",
              "      <td>Index of refraction: 1.5680 at 20 °C/D</td>\n",
              "    </tr>\n",
              "    <tr>\n",
              "      <th>23235</th>\n",
              "      <td>1.490-1.500</td>\n",
              "    </tr>\n",
              "    <tr>\n",
              "      <th>8698</th>\n",
              "      <td>INDEX OF REFRACTION: 1.4940 @ 25 °C/D</td>\n",
              "    </tr>\n",
              "    <tr>\n",
              "      <th>21265</th>\n",
              "      <td>1.514-1.521</td>\n",
              "    </tr>\n",
              "    <tr>\n",
              "      <th>13654</th>\n",
              "      <td>1.492-1.497</td>\n",
              "    </tr>\n",
              "    <tr>\n",
              "      <th>8437</th>\n",
              "      <td>Refractive index = 1.5424</td>\n",
              "    </tr>\n",
              "    <tr>\n",
              "      <th>7194</th>\n",
              "      <td>NaN</td>\n",
              "    </tr>\n",
              "    <tr>\n",
              "      <th>7193</th>\n",
              "      <td>1.491-1.497</td>\n",
              "    </tr>\n",
              "    <tr>\n",
              "      <th>7165</th>\n",
              "      <td>1.502-1.508</td>\n",
              "    </tr>\n",
              "    <tr>\n",
              "      <th>5705112</th>\n",
              "      <td>NaN</td>\n",
              "    </tr>\n",
              "    <tr>\n",
              "      <th>32611</th>\n",
              "      <td>INDEX OF REFRACTION: 1.4449 @ 20 °C/D</td>\n",
              "    </tr>\n",
              "    <tr>\n",
              "      <th>25054</th>\n",
              "      <td>NaN</td>\n",
              "    </tr>\n",
              "    <tr>\n",
              "      <th>33023</th>\n",
              "      <td>NaN</td>\n",
              "    </tr>\n",
              "    <tr>\n",
              "      <th>91234</th>\n",
              "      <td>NaN</td>\n",
              "    </tr>\n",
              "    <tr>\n",
              "      <th>134692469</th>\n",
              "      <td>NaN</td>\n",
              "    </tr>\n",
              "    <tr>\n",
              "      <th>111835</th>\n",
              "      <td>NaN</td>\n",
              "    </tr>\n",
              "    <tr>\n",
              "      <th>87390959</th>\n",
              "      <td>NaN</td>\n",
              "    </tr>\n",
              "    <tr>\n",
              "      <th>76959962</th>\n",
              "      <td>NaN</td>\n",
              "    </tr>\n",
              "    <tr>\n",
              "      <th>44150341</th>\n",
              "      <td>NaN</td>\n",
              "    </tr>\n",
              "    <tr>\n",
              "      <th>21989361</th>\n",
              "      <td>NaN</td>\n",
              "    </tr>\n",
              "  </tbody>\n",
              "</table>\n",
              "</div>\n",
              "      <button class=\"colab-df-convert\" onclick=\"convertToInteractive('df-a7162e74-a3c7-4af5-9f53-cd7a6dad0776')\"\n",
              "              title=\"Convert this dataframe to an interactive table.\"\n",
              "              style=\"display:none;\">\n",
              "        \n",
              "  <svg xmlns=\"http://www.w3.org/2000/svg\" height=\"24px\"viewBox=\"0 0 24 24\"\n",
              "       width=\"24px\">\n",
              "    <path d=\"M0 0h24v24H0V0z\" fill=\"none\"/>\n",
              "    <path d=\"M18.56 5.44l.94 2.06.94-2.06 2.06-.94-2.06-.94-.94-2.06-.94 2.06-2.06.94zm-11 1L8.5 8.5l.94-2.06 2.06-.94-2.06-.94L8.5 2.5l-.94 2.06-2.06.94zm10 10l.94 2.06.94-2.06 2.06-.94-2.06-.94-.94-2.06-.94 2.06-2.06.94z\"/><path d=\"M17.41 7.96l-1.37-1.37c-.4-.4-.92-.59-1.43-.59-.52 0-1.04.2-1.43.59L10.3 9.45l-7.72 7.72c-.78.78-.78 2.05 0 2.83L4 21.41c.39.39.9.59 1.41.59.51 0 1.02-.2 1.41-.59l7.78-7.78 2.81-2.81c.8-.78.8-2.07 0-2.86zM5.41 20L4 18.59l7.72-7.72 1.47 1.35L5.41 20z\"/>\n",
              "  </svg>\n",
              "      </button>\n",
              "      \n",
              "  <style>\n",
              "    .colab-df-container {\n",
              "      display:flex;\n",
              "      flex-wrap:wrap;\n",
              "      gap: 12px;\n",
              "    }\n",
              "\n",
              "    .colab-df-convert {\n",
              "      background-color: #E8F0FE;\n",
              "      border: none;\n",
              "      border-radius: 50%;\n",
              "      cursor: pointer;\n",
              "      display: none;\n",
              "      fill: #1967D2;\n",
              "      height: 32px;\n",
              "      padding: 0 0 0 0;\n",
              "      width: 32px;\n",
              "    }\n",
              "\n",
              "    .colab-df-convert:hover {\n",
              "      background-color: #E2EBFA;\n",
              "      box-shadow: 0px 1px 2px rgba(60, 64, 67, 0.3), 0px 1px 3px 1px rgba(60, 64, 67, 0.15);\n",
              "      fill: #174EA6;\n",
              "    }\n",
              "\n",
              "    [theme=dark] .colab-df-convert {\n",
              "      background-color: #3B4455;\n",
              "      fill: #D2E3FC;\n",
              "    }\n",
              "\n",
              "    [theme=dark] .colab-df-convert:hover {\n",
              "      background-color: #434B5C;\n",
              "      box-shadow: 0px 1px 3px 1px rgba(0, 0, 0, 0.15);\n",
              "      filter: drop-shadow(0px 1px 2px rgba(0, 0, 0, 0.3));\n",
              "      fill: #FFFFFF;\n",
              "    }\n",
              "  </style>\n",
              "\n",
              "      <script>\n",
              "        const buttonEl =\n",
              "          document.querySelector('#df-a7162e74-a3c7-4af5-9f53-cd7a6dad0776 button.colab-df-convert');\n",
              "        buttonEl.style.display =\n",
              "          google.colab.kernel.accessAllowed ? 'block' : 'none';\n",
              "\n",
              "        async function convertToInteractive(key) {\n",
              "          const element = document.querySelector('#df-a7162e74-a3c7-4af5-9f53-cd7a6dad0776');\n",
              "          const dataTable =\n",
              "            await google.colab.kernel.invokeFunction('convertToInteractive',\n",
              "                                                     [key], {});\n",
              "          if (!dataTable) return;\n",
              "\n",
              "          const docLinkHtml = 'Like what you see? Visit the ' +\n",
              "            '<a target=\"_blank\" href=https://colab.research.google.com/notebooks/data_table.ipynb>data table notebook</a>'\n",
              "            + ' to learn more about interactive tables.';\n",
              "          element.innerHTML = '';\n",
              "          dataTable['output_type'] = 'display_data';\n",
              "          await google.colab.output.renderOutput(dataTable, element);\n",
              "          const docLink = document.createElement('div');\n",
              "          docLink.innerHTML = docLinkHtml;\n",
              "          element.appendChild(docLink);\n",
              "        }\n",
              "      </script>\n",
              "    </div>\n",
              "  </div>\n",
              "  "
            ]
          },
          "metadata": {},
          "execution_count": 38
        }
      ]
    },
    {
      "cell_type": "code",
      "source": [
        "def cid_to_exp_properties(CID_list, property_name_list, property_heading_list):\n",
        "\n",
        "  df_properties = pd.DataFrame(index = CID_list, columns = property_name_list)\n",
        "\n",
        "  for i in range(len(property_name_list)):\n",
        "\n",
        "    property_name = property_name_list[i]\n",
        "    property_heading = property_heading_list[i]\n",
        "\n",
        "    print(property_heading)\n",
        "\n",
        "    for CID in CID_list:\n",
        "      data = requests.get(f\"https://pubchem.ncbi.nlm.nih.gov/rest/pug_view/data/compound/{CID}/xml?heading={property_heading}\")\n",
        "      html = BeautifulSoup(data.content, \"xml\")\n",
        "      if len(html.find_all('String')) > 0:\n",
        "        print(mode(html.find_all('String')).text)\n",
        "        df_properties.loc[CID,property_name] = mode(html.find_all('String')).text\n",
        "      else:\n",
        "        df_properties.loc[CID,property_name] = np.nan\n",
        "\n",
        "  return df_properties\n",
        "\n",
        "df_properties = cid_to_exp_properties(CID_list, ['MP','RI'], ['Melting+Point','Refractive+Index'])"
      ],
      "metadata": {
        "colab": {
          "base_uri": "https://localhost:8080/"
        },
        "id": "qZqfUHqhNaj6",
        "outputId": "bda4bba8-31bf-4acd-d8f5-ed1056d6a9e7"
      },
      "execution_count": 44,
      "outputs": [
        {
          "output_type": "stream",
          "name": "stdout",
          "text": [
            "Melting+Point\n",
            "21 °C\n",
            "-22 °C\n",
            "-28 °C\n",
            "-34 °C\n",
            "38.5 °C\n",
            "-49 °F (USCG, 1999)\n",
            "-77.8 °C\n",
            "Refractive+Index\n",
            "Index of refraction: 1.5680 at 20 °C/D\n",
            "1.490-1.500\n",
            "INDEX OF REFRACTION: 1.4940 @ 25 °C/D\n",
            "1.514-1.521\n",
            "1.492-1.497\n",
            "1.491-1.497\n",
            "1.502-1.508\n",
            "INDEX OF REFRACTION: 1.4449 @ 20 °C/D\n"
          ]
        }
      ]
    },
    {
      "cell_type": "code",
      "source": [
        "df_properties"
      ],
      "metadata": {
        "colab": {
          "base_uri": "https://localhost:8080/",
          "height": 677
        },
        "id": "06qphaiySoLv",
        "outputId": "73b263ec-cfe8-41f0-9b0e-8a66426fe5e7"
      },
      "execution_count": 45,
      "outputs": [
        {
          "output_type": "execute_result",
          "data": {
            "text/plain": [
              "                            MP                                      RI\n",
              "2345                     21 °C  Index of refraction: 1.5680 at 20 °C/D\n",
              "23235                      NaN                             1.490-1.500\n",
              "8698                    -22 °C   INDEX OF REFRACTION: 1.4940 @ 25 °C/D\n",
              "21265                      NaN                             1.514-1.521\n",
              "13654                      NaN                             1.492-1.497\n",
              "8437                    -28 °C                                     NaN\n",
              "7194                       NaN                                     NaN\n",
              "7193                       NaN                             1.491-1.497\n",
              "7165                    -34 °C                             1.502-1.508\n",
              "5705112                38.5 °C                                     NaN\n",
              "32611      -49 °F (USCG, 1999)   INDEX OF REFRACTION: 1.4449 @ 20 °C/D\n",
              "25054                 -77.8 °C                                     NaN\n",
              "33023                      NaN                                     NaN\n",
              "91234                      NaN                                     NaN\n",
              "134692469                  NaN                                     NaN\n",
              "111835                     NaN                                     NaN\n",
              "87390959                   NaN                                     NaN\n",
              "76959962                   NaN                                     NaN\n",
              "44150341                   NaN                                     NaN\n",
              "21989361                   NaN                                     NaN"
            ],
            "text/html": [
              "\n",
              "  <div id=\"df-a86edc9e-7d0e-4eb3-9285-ec99a9cb1cb6\">\n",
              "    <div class=\"colab-df-container\">\n",
              "      <div>\n",
              "<style scoped>\n",
              "    .dataframe tbody tr th:only-of-type {\n",
              "        vertical-align: middle;\n",
              "    }\n",
              "\n",
              "    .dataframe tbody tr th {\n",
              "        vertical-align: top;\n",
              "    }\n",
              "\n",
              "    .dataframe thead th {\n",
              "        text-align: right;\n",
              "    }\n",
              "</style>\n",
              "<table border=\"1\" class=\"dataframe\">\n",
              "  <thead>\n",
              "    <tr style=\"text-align: right;\">\n",
              "      <th></th>\n",
              "      <th>MP</th>\n",
              "      <th>RI</th>\n",
              "    </tr>\n",
              "  </thead>\n",
              "  <tbody>\n",
              "    <tr>\n",
              "      <th>2345</th>\n",
              "      <td>21 °C</td>\n",
              "      <td>Index of refraction: 1.5680 at 20 °C/D</td>\n",
              "    </tr>\n",
              "    <tr>\n",
              "      <th>23235</th>\n",
              "      <td>NaN</td>\n",
              "      <td>1.490-1.500</td>\n",
              "    </tr>\n",
              "    <tr>\n",
              "      <th>8698</th>\n",
              "      <td>-22 °C</td>\n",
              "      <td>INDEX OF REFRACTION: 1.4940 @ 25 °C/D</td>\n",
              "    </tr>\n",
              "    <tr>\n",
              "      <th>21265</th>\n",
              "      <td>NaN</td>\n",
              "      <td>1.514-1.521</td>\n",
              "    </tr>\n",
              "    <tr>\n",
              "      <th>13654</th>\n",
              "      <td>NaN</td>\n",
              "      <td>1.492-1.497</td>\n",
              "    </tr>\n",
              "    <tr>\n",
              "      <th>8437</th>\n",
              "      <td>-28 °C</td>\n",
              "      <td>NaN</td>\n",
              "    </tr>\n",
              "    <tr>\n",
              "      <th>7194</th>\n",
              "      <td>NaN</td>\n",
              "      <td>NaN</td>\n",
              "    </tr>\n",
              "    <tr>\n",
              "      <th>7193</th>\n",
              "      <td>NaN</td>\n",
              "      <td>1.491-1.497</td>\n",
              "    </tr>\n",
              "    <tr>\n",
              "      <th>7165</th>\n",
              "      <td>-34 °C</td>\n",
              "      <td>1.502-1.508</td>\n",
              "    </tr>\n",
              "    <tr>\n",
              "      <th>5705112</th>\n",
              "      <td>38.5 °C</td>\n",
              "      <td>NaN</td>\n",
              "    </tr>\n",
              "    <tr>\n",
              "      <th>32611</th>\n",
              "      <td>-49 °F (USCG, 1999)</td>\n",
              "      <td>INDEX OF REFRACTION: 1.4449 @ 20 °C/D</td>\n",
              "    </tr>\n",
              "    <tr>\n",
              "      <th>25054</th>\n",
              "      <td>-77.8 °C</td>\n",
              "      <td>NaN</td>\n",
              "    </tr>\n",
              "    <tr>\n",
              "      <th>33023</th>\n",
              "      <td>NaN</td>\n",
              "      <td>NaN</td>\n",
              "    </tr>\n",
              "    <tr>\n",
              "      <th>91234</th>\n",
              "      <td>NaN</td>\n",
              "      <td>NaN</td>\n",
              "    </tr>\n",
              "    <tr>\n",
              "      <th>134692469</th>\n",
              "      <td>NaN</td>\n",
              "      <td>NaN</td>\n",
              "    </tr>\n",
              "    <tr>\n",
              "      <th>111835</th>\n",
              "      <td>NaN</td>\n",
              "      <td>NaN</td>\n",
              "    </tr>\n",
              "    <tr>\n",
              "      <th>87390959</th>\n",
              "      <td>NaN</td>\n",
              "      <td>NaN</td>\n",
              "    </tr>\n",
              "    <tr>\n",
              "      <th>76959962</th>\n",
              "      <td>NaN</td>\n",
              "      <td>NaN</td>\n",
              "    </tr>\n",
              "    <tr>\n",
              "      <th>44150341</th>\n",
              "      <td>NaN</td>\n",
              "      <td>NaN</td>\n",
              "    </tr>\n",
              "    <tr>\n",
              "      <th>21989361</th>\n",
              "      <td>NaN</td>\n",
              "      <td>NaN</td>\n",
              "    </tr>\n",
              "  </tbody>\n",
              "</table>\n",
              "</div>\n",
              "      <button class=\"colab-df-convert\" onclick=\"convertToInteractive('df-a86edc9e-7d0e-4eb3-9285-ec99a9cb1cb6')\"\n",
              "              title=\"Convert this dataframe to an interactive table.\"\n",
              "              style=\"display:none;\">\n",
              "        \n",
              "  <svg xmlns=\"http://www.w3.org/2000/svg\" height=\"24px\"viewBox=\"0 0 24 24\"\n",
              "       width=\"24px\">\n",
              "    <path d=\"M0 0h24v24H0V0z\" fill=\"none\"/>\n",
              "    <path d=\"M18.56 5.44l.94 2.06.94-2.06 2.06-.94-2.06-.94-.94-2.06-.94 2.06-2.06.94zm-11 1L8.5 8.5l.94-2.06 2.06-.94-2.06-.94L8.5 2.5l-.94 2.06-2.06.94zm10 10l.94 2.06.94-2.06 2.06-.94-2.06-.94-.94-2.06-.94 2.06-2.06.94z\"/><path d=\"M17.41 7.96l-1.37-1.37c-.4-.4-.92-.59-1.43-.59-.52 0-1.04.2-1.43.59L10.3 9.45l-7.72 7.72c-.78.78-.78 2.05 0 2.83L4 21.41c.39.39.9.59 1.41.59.51 0 1.02-.2 1.41-.59l7.78-7.78 2.81-2.81c.8-.78.8-2.07 0-2.86zM5.41 20L4 18.59l7.72-7.72 1.47 1.35L5.41 20z\"/>\n",
              "  </svg>\n",
              "      </button>\n",
              "      \n",
              "  <style>\n",
              "    .colab-df-container {\n",
              "      display:flex;\n",
              "      flex-wrap:wrap;\n",
              "      gap: 12px;\n",
              "    }\n",
              "\n",
              "    .colab-df-convert {\n",
              "      background-color: #E8F0FE;\n",
              "      border: none;\n",
              "      border-radius: 50%;\n",
              "      cursor: pointer;\n",
              "      display: none;\n",
              "      fill: #1967D2;\n",
              "      height: 32px;\n",
              "      padding: 0 0 0 0;\n",
              "      width: 32px;\n",
              "    }\n",
              "\n",
              "    .colab-df-convert:hover {\n",
              "      background-color: #E2EBFA;\n",
              "      box-shadow: 0px 1px 2px rgba(60, 64, 67, 0.3), 0px 1px 3px 1px rgba(60, 64, 67, 0.15);\n",
              "      fill: #174EA6;\n",
              "    }\n",
              "\n",
              "    [theme=dark] .colab-df-convert {\n",
              "      background-color: #3B4455;\n",
              "      fill: #D2E3FC;\n",
              "    }\n",
              "\n",
              "    [theme=dark] .colab-df-convert:hover {\n",
              "      background-color: #434B5C;\n",
              "      box-shadow: 0px 1px 3px 1px rgba(0, 0, 0, 0.15);\n",
              "      filter: drop-shadow(0px 1px 2px rgba(0, 0, 0, 0.3));\n",
              "      fill: #FFFFFF;\n",
              "    }\n",
              "  </style>\n",
              "\n",
              "      <script>\n",
              "        const buttonEl =\n",
              "          document.querySelector('#df-a86edc9e-7d0e-4eb3-9285-ec99a9cb1cb6 button.colab-df-convert');\n",
              "        buttonEl.style.display =\n",
              "          google.colab.kernel.accessAllowed ? 'block' : 'none';\n",
              "\n",
              "        async function convertToInteractive(key) {\n",
              "          const element = document.querySelector('#df-a86edc9e-7d0e-4eb3-9285-ec99a9cb1cb6');\n",
              "          const dataTable =\n",
              "            await google.colab.kernel.invokeFunction('convertToInteractive',\n",
              "                                                     [key], {});\n",
              "          if (!dataTable) return;\n",
              "\n",
              "          const docLinkHtml = 'Like what you see? Visit the ' +\n",
              "            '<a target=\"_blank\" href=https://colab.research.google.com/notebooks/data_table.ipynb>data table notebook</a>'\n",
              "            + ' to learn more about interactive tables.';\n",
              "          element.innerHTML = '';\n",
              "          dataTable['output_type'] = 'display_data';\n",
              "          await google.colab.output.renderOutput(dataTable, element);\n",
              "          const docLink = document.createElement('div');\n",
              "          docLink.innerHTML = docLinkHtml;\n",
              "          element.appendChild(docLink);\n",
              "        }\n",
              "      </script>\n",
              "    </div>\n",
              "  </div>\n",
              "  "
            ]
          },
          "metadata": {},
          "execution_count": 45
        }
      ]
    },
    {
      "cell_type": "code",
      "source": [
        "print(bs4.__version__)"
      ],
      "metadata": {
        "colab": {
          "base_uri": "https://localhost:8080/"
        },
        "id": "doGtlkd-F8b-",
        "outputId": "b592bfbe-9878-4f33-b43b-d38696feea44"
      },
      "execution_count": 24,
      "outputs": [
        {
          "output_type": "stream",
          "name": "stdout",
          "text": [
            "4.11.2\n"
          ]
        }
      ]
    },
    {
      "cell_type": "code",
      "source": [
        "print(xml.__version__)"
      ],
      "metadata": {
        "colab": {
          "base_uri": "https://localhost:8080/",
          "height": 169
        },
        "id": "8GhTZqMIGOvl",
        "outputId": "13c30d89-a981-4f37-a658-dae7ef366dea"
      },
      "execution_count": 10,
      "outputs": [
        {
          "output_type": "error",
          "ename": "NameError",
          "evalue": "ignored",
          "traceback": [
            "\u001b[0;31m---------------------------------------------------------------------------\u001b[0m",
            "\u001b[0;31mNameError\u001b[0m                                 Traceback (most recent call last)",
            "\u001b[0;32m<ipython-input-10-0ea8d5f134d8>\u001b[0m in \u001b[0;36m<cell line: 1>\u001b[0;34m()\u001b[0m\n\u001b[0;32m----> 1\u001b[0;31m \u001b[0mprint\u001b[0m\u001b[0;34m(\u001b[0m\u001b[0mxml\u001b[0m\u001b[0;34m.\u001b[0m\u001b[0m__version__\u001b[0m\u001b[0;34m)\u001b[0m\u001b[0;34m\u001b[0m\u001b[0;34m\u001b[0m\u001b[0m\n\u001b[0m",
            "\u001b[0;31mNameError\u001b[0m: name 'xml' is not defined"
          ]
        }
      ]
    },
    {
      "cell_type": "code",
      "source": [
        "import lxml\n",
        "print(lxml.__version__)"
      ],
      "metadata": {
        "colab": {
          "base_uri": "https://localhost:8080/"
        },
        "id": "DC5ldG-iGc0u",
        "outputId": "e2b28789-7eb9-43e6-fcc3-b507201c324e"
      },
      "execution_count": 12,
      "outputs": [
        {
          "output_type": "stream",
          "name": "stdout",
          "text": [
            "4.9.2\n"
          ]
        }
      ]
    },
    {
      "cell_type": "code",
      "source": [],
      "metadata": {
        "id": "PUsqJE_HGgfS"
      },
      "execution_count": null,
      "outputs": []
    }
  ]
}